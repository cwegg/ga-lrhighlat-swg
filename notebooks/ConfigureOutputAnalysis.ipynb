{
 "cells": [
  {
   "cell_type": "code",
   "execution_count": null,
   "metadata": {},
   "outputs": [],
   "source": [
    "%load_ext autoreload\n",
    "%autoreload 2\n",
    "\n",
    "import seaborn as sns\n",
    "import numpy as np\n",
    "import pandas as pd\n",
    "import glob\n",
    "import yaml\n",
    "import os\n",
    "import os.path\n",
    "import matplotlib.pyplot as plt\n",
    "import astropy.table\n",
    "import glob\n",
    "from astropy.table import Table\n",
    "\n",
    "from swgworkflow.xmlanalysis import parse_configured_xmls\n",
    "\n",
    "sns.set_theme()"
   ]
  },
  {
   "cell_type": "code",
   "execution_count": null,
   "metadata": {},
   "outputs": [],
   "source": [
    "submission, plot_format = 'SV_exp1', 'png'"
   ]
  },
  {
   "cell_type": "code",
   "execution_count": null,
   "metadata": {},
   "outputs": [],
   "source": [
    "plot_dir = f'../plots/{submission}/'\n",
    "plot_prefix = plot_dir + submission\n",
    "os.makedirs(plot_dir,exist_ok=True)\n",
    "\n",
    "with open('../params.yaml') as f:\n",
    "    params = yaml.load(f, Loader=yaml.FullLoader)\n",
    "submission_params = params['submission'][submission]\n",
    "\n",
    "catalogue_file = glob.glob('../'+submission_params['catalogue_dir']+'/*.fits')[0]\n",
    "configured_catalogue_file = glob.glob('../'+submission_params['catalogue_dir']+'-configured/*-configured.fits')[0]\n",
    "configured_xmls = f'../obs/{submission}/05-configured/*.xml'\n",
    "source_lists_external = '../'+submission_params['catalogue_dir']+'-external-configured/*-configured-'+submission+'.fits'\n",
    "source_lists_internal = '../'+submission_params['catalogue_dir']+'-internal-configured/*-configured-'+submission+'.fits'\n",
    "\n",
    "print(f'Using catalogue: {catalogue_file}')\n",
    "print(f'Using configured catalogue: {configured_catalogue_file}')\n",
    "print(f'Parsing configured xmls from: {configured_xmls}')\n",
    "print(f'Using external source lists from: {source_lists_external}')\n",
    "print(f'Using internal source lists from: {source_lists_internal}')\n",
    "print(f'Creating plots in: {plot_dir}')"
   ]
  },
  {
   "cell_type": "code",
   "execution_count": null,
   "metadata": {},
   "outputs": [],
   "source": [
    "table = Table.read(configured_catalogue_file)\n",
    "table = table[table['CONFIGURED']>0] # we only care about targets that got passed to configure\n",
    "configured_table = table.to_pandas()\n",
    "# Convert bytes to strings for pandas\n",
    "for column in configured_table.columns:\n",
    "    if isinstance(configured_table[column][0], (bytes, bytearray)):\n",
    "        configured_table[column] = configured_table[column].str.decode(\"utf-8\")\n",
    "targets = configured_table[configured_table.TARGUSE == 'T']\n",
    "sky = configured_table[configured_table.TARGUSE == 'S']"
   ]
  },
  {
   "cell_type": "code",
   "execution_count": null,
   "metadata": {},
   "outputs": [],
   "source": [
    "summaries, xml_targets = parse_configured_xmls(configured_xmls)\n",
    "summaries"
   ]
  },
  {
   "cell_type": "code",
   "execution_count": null,
   "metadata": {},
   "outputs": [],
   "source": [
    "targets.head()"
   ]
  },
  {
   "cell_type": "code",
   "execution_count": null,
   "metadata": {},
   "outputs": [],
   "source": [
    "def plot_assignment(configured_table, x='GAIA_RA', y='GAIA_DEC', figsize = (12,7), equal_axes=False, flipy=False):\n",
    "    fig, ax = plt.subplots(1,2, figsize = (12,7))\n",
    "    idx = (configured_table['ASSIGNED'] == False) \n",
    "    ax[0].plot(configured_table[x][idx], \n",
    "               configured_table[y][idx],\n",
    "               'r.',markersize=4,label='Not Assigned', alpha=0.5)\n",
    "    idx = (configured_table['ASSIGNED'] == True) \n",
    "    ax[0].plot(configured_table[x][idx],\n",
    "               configured_table[y][idx],\n",
    "               'g.',markersize=4,label='Assigned', alpha=0.5)\n",
    "\n",
    "    ax[0].set_xlabel(x)\n",
    "    ax[0].set_ylabel(y)\n",
    "    ax[0].legend()\n",
    "    if equal_axes:\n",
    "        ax[0].set_aspect('equal', 'box')\n",
    "    if flipy:\n",
    "        cur_ylim = ax[0].get_ylim()\n",
    "        ax[0].set_ylim(cur_ylim[::-1])\n",
    "    \n",
    "    idx = (field_configured_table['ASSIGNED'] == False) \n",
    "    scatter = ax[1].scatter(configured_table[x][idx],\n",
    "                            configured_table[y][idx],\n",
    "                            s=configured_table['TARGPRIO'][idx], c='r', alpha=0.5)\n",
    "    idx = (configured_table['ASSIGNED'] == True) \n",
    "    ax[1].scatter(configured_table[x][idx],\n",
    "                  configured_table[y][idx],\n",
    "                  s=configured_table['TARGPRIO'][idx],\n",
    "                  c='g',label='Not Assigned', alpha=0.5)\n",
    "    ax[1].set_xlabel(x)\n",
    "    ax[1].set_ylabel(y)\n",
    "    if equal_axes:\n",
    "        ax[1].set_aspect('equal', 'box')\n",
    "    if flipy:\n",
    "        cur_ylim = ax[1].get_ylim()\n",
    "        ax[1].set_ylim(cur_ylim[::-1])\n",
    "\n",
    "    # produce a legend with a cross section of sizes from the scatter\n",
    "    handles, labels = scatter.legend_elements(prop=\"sizes\", alpha=0.6)\n",
    "    legend2 = ax[1].legend(handles, labels, loc=\"upper right\", title=\"TARGPRIO\")\n",
    "    return fig\n",
    "    \n",
    "for field_name in targets.FIELD_NAME.unique():\n",
    "    field_configured_table = targets[targets['FIELD_NAME'] == field_name]\n",
    "    fig = plot_assignment(field_configured_table, x='GAIA_RA', y='GAIA_DEC', equal_axes=True)\n",
    "    fig.suptitle(f'{field_name} target distribution')\n",
    "    fig.savefig(f'{plot_prefix}_{field_name}_TargetDistribution.{plot_format}')\n",
    "    \n",
    "for field_name in sky.FIELD_NAME.unique():\n",
    "    field_configured_table = sky[sky['FIELD_NAME'] == field_name]\n",
    "    fig = plot_assignment(field_configured_table, x='GAIA_RA', y='GAIA_DEC', equal_axes=True)\n",
    "    fig.suptitle(f'{field_name} sky fibre distribution')\n",
    "    fig.savefig(f'{plot_prefix}_{field_name}_SkyDistribution.{plot_format}')"
   ]
  },
  {
   "cell_type": "code",
   "execution_count": null,
   "metadata": {},
   "outputs": [],
   "source": [
    "fig, ax = plt.subplots(2,1,sharex=True, figsize=(5,8))\n",
    "g = sns.barplot(\n",
    "    data=targets,\n",
    "    x=\"TARGPRIO\", y=\"ASSIGNED\", \n",
    "    palette=\"dark\", alpha=.6,ax=ax[0]\n",
    ")\n",
    "ax[0].set_ylabel('Assignment\\nProbability')\n",
    "ax[0].set_xlabel(None)\n",
    "\n",
    "g = sns.countplot(\n",
    "    data=targets,\n",
    "    x=\"TARGPRIO\",\n",
    "    palette=\"dark\", alpha=.6, ax=ax[1]\n",
    ")\n",
    "ax[1].set_ylabel('Number of\\nTargets')\n",
    "fig.tight_layout()\n",
    "fig.savefig(f'{plot_prefix}_Assignment_Probablity.{plot_format}')"
   ]
  },
  {
   "cell_type": "code",
   "execution_count": null,
   "metadata": {},
   "outputs": [],
   "source": [
    "def add_distance_to_field_center(df, summaries, radius_boundaries = (0.0, 0.1, 0.2, 0.4, 1.0)):\n",
    "    from astropy.coordinates import SkyCoord\n",
    "    df['distance_to_center'] = '>1deg'\n",
    "    target_coord = SkyCoord(ra=df.GAIA_RA,\n",
    "                            dec=df.GAIA_DEC,\n",
    "                            unit='deg')\n",
    "    \n",
    "    for field_name in df.FIELD_NAME.unique():\n",
    "        ra = summaries[summaries.field_name == field_name].ra\n",
    "        dec = summaries[summaries.field_name == field_name].dec\n",
    "        field_center = SkyCoord(ra=ra,dec=dec,unit='deg')\n",
    "        offset = field_center.separation(target_coord).deg\n",
    "\n",
    "        for min_dist,max_dist in zip(radius_boundaries[:-1], radius_boundaries[1:]):\n",
    "            ind = (offset > min_dist) & (offset < max_dist) & (df.FIELD_NAME == field_name)\n",
    "            df.loc[ind,'distance_to_center'] = f'From {min_dist} to {max_dist}'\n",
    "            \n",
    "def plot_assigned_vs_distance_to_field_center(targets, summaries, radius_boundaries = (0.0, 0.1, 0.2, 0.4, 1.0)):\n",
    "    targets = targets.copy()\n",
    "    add_distance_to_field_center(targets, summaries)\n",
    "    distances = targets['distance_to_center'].unique()\n",
    "\n",
    "    fig, axs = plt.subplots(len(distances),3,sharex=True,figsize = (10,10))\n",
    "    count_axs, assigned_axs, fraction_axs = axs.T\n",
    "\n",
    "    for distance, count_ax, assigned_ax, fraction_ax  in zip(distances, count_axs, assigned_axs, fraction_axs):\n",
    "        df = targets[targets['distance_to_center'] == distance]\n",
    "        sns.countplot(data=df,x='TARGPRIO',palette=\"dark\", alpha=.6,ax=count_ax)\n",
    "        count_ax.set_xlabel(None)\n",
    "        count_ax.set_ylabel('# Targets')\n",
    "\n",
    "        sns.countplot(data=df[df['ASSIGNED']>0],x='TARGPRIO',palette=\"dark\", alpha=.6,ax=assigned_ax)\n",
    "        assigned_ax.set_xlabel(None)\n",
    "        assigned_ax.set_ylabel('Fibres Assigned')\n",
    "        assigned_ax.set_title(f'Distance to field center [deg]: {distance}')\n",
    "        \n",
    "        sns.barplot(data=df,x='TARGPRIO',y='ASSIGNED',palette=\"dark\", alpha=.6,ax=fraction_ax)\n",
    "        fraction_ax.set_xlabel(None)\n",
    "        fraction_ax.set_ylabel('Fraction of Targets\\nAssigned Fibres')\n",
    "\n",
    "    count_axs[-1].set_xlabel('TARGPRIO')\n",
    "    fraction_axs[-1].set_xlabel('TARGPRIO')\n",
    "    fig.tight_layout()\n",
    "    return fig\n",
    "            \n",
    "for field_name in sky.FIELD_NAME.unique():\n",
    "    field_targets = targets[targets['FIELD_NAME'] == field_name]\n",
    "    fig = plot_assigned_vs_distance_to_field_center(targets, summaries)\n",
    "    fig.suptitle(f'{field_name} assignment vs distance to cluster center')\n",
    "    fig.tight_layout()\n",
    "    fig.savefig(f'{plot_prefix}_{field_name}_assignment_vs_distance.{plot_format}')"
   ]
  },
  {
   "cell_type": "code",
   "execution_count": null,
   "metadata": {},
   "outputs": [],
   "source": [
    "for field_name in targets.FIELD_NAME.unique():\n",
    "    field_configured_table = targets[targets['FIELD_NAME'] == field_name].copy()\n",
    "    field_configured_table['PS_MAG_G-PS_MAG_R'] = field_configured_table['PS_MAG_G']-field_configured_table['PS_MAG_R']\n",
    "    fig = plot_assignment(field_configured_table, x='PS_MAG_G-PS_MAG_R', y='PS_MAG_G',flipy=True)\n",
    "    fig.suptitle(f'{field_name} Color-Magnitude Diagram')\n",
    "    fig.savefig(f'{plot_prefix}_{field_name}_ColorMag.{plot_format}')"
   ]
  },
  {
   "cell_type": "code",
   "execution_count": null,
   "metadata": {},
   "outputs": [],
   "source": [
    "source_lists\n",
    "files = glob.glob(source_lists)\n",
    "print(files)"
   ]
  },
  {
   "cell_type": "code",
   "execution_count": null,
   "metadata": {},
   "outputs": [],
   "source": [
    "data = []\n",
    "files = glob.glob(source_lists_external) + glob.glob(source_lists_internal)\n",
    "print(f'Source list, configured, assigned')\n",
    "for file in files:\n",
    "    basename = os.path.basename(file)\n",
    "    basename = basename.split('-',1)[0]\n",
    "    source_list = Table.read(file)\n",
    "    df = source_list.to_pandas()\n",
    "    df['source_list'] = basename\n",
    "    data.append(df[['source_list','TARGPRIO','CONFIGURED','ASSIGNED']])\n",
    "    print(f\"{basename}, {source_list['CONFIGURED'].sum()}, {source_list['ASSIGNED'].sum()}\")\n",
    "source_lists = pd.concat(data)"
   ]
  },
  {
   "cell_type": "code",
   "execution_count": null,
   "metadata": {},
   "outputs": [],
   "source": [
    "def extract_targprogs(targets):\n",
    "    targprogs = set()\n",
    "    ignore = ('POI','')\n",
    "    for targprog_string in targets.TARGPROG.unique():\n",
    "        this_targprogs = targprog_string.strip().split('|')\n",
    "        for this_targprog in this_targprogs:\n",
    "            if this_targprog not in ignore:\n",
    "                targprogs.add(this_targprog)\n",
    "    return targprogs\n",
    "                \n",
    "def targprog_confusion(targets):\n",
    "    targprogs = extract_targprogs(targets)\n",
    "    confusion = []\n",
    "    for class_one in targprogs:\n",
    "        for class_two in targprogs:\n",
    "            count = (targets.TARGPROG.str.contains('|'+class_one+'|',regex=False) & \\\n",
    "                     targets.TARGPROG.str.contains('|'+class_two+'|',regex=False)).sum()\n",
    "            confusion.append({'TARGPROG 1': class_one,\n",
    "                             'TARGPROG 2': class_two,\n",
    "                             'Count': count})\n",
    "    confusion = pd.DataFrame(confusion)\n",
    "    return confusion.pivot(\"TARGPROG 1\", \"TARGPROG 2\", \"Count\")\n",
    "\n",
    "def plot_confusion(df, title=None, **kwargs):\n",
    "    from matplotlib.colors import LogNorm\n",
    "\n",
    "    numbers = targprog_confusion(df)\n",
    "    log_norm = LogNorm(vmin=0.5, vmax=numbers.max().max())\n",
    "    ret =  sns.heatmap(numbers, annot=True, fmt=\"d\",norm=log_norm, **kwargs)\n",
    "    ret.set_title(title)\n",
    "    return ret"
   ]
  },
  {
   "cell_type": "code",
   "execution_count": null,
   "metadata": {},
   "outputs": [],
   "source": [
    "fig, ax = plt.subplots(2,1,figsize=(8, 8))\n",
    "_=plot_confusion(targets[targets.CONFIGURED>0], ax=ax[0],title='Configured')\n",
    "_=plot_confusion(targets[targets.ASSIGNED>0], ax=ax[1],title='Assigned')\n",
    "fig.tight_layout()\n",
    "fig.savefig(f'{plot_prefix}_Confusion.{plot_format}')"
   ]
  },
  {
   "cell_type": "code",
   "execution_count": null,
   "metadata": {},
   "outputs": [],
   "source": [
    "targprogs = extract_targprogs(targets)\n",
    "table = []\n",
    "for this_class in targprogs:\n",
    "        count = targets.TARGPROG.str.contains('|'+this_class+'|',regex=False).sum()\n",
    "        assigned = (targets.TARGPROG.str.contains('|'+this_class+'|',regex=False) & \\\n",
    "                    targets.ASSIGNED>0).sum()\n",
    "        table.append({'TARGPROG': this_class,\n",
    "                         'Count': count, \n",
    "                      'Assigned': assigned,\n",
    "                    'FractionAssigned': assigned/count})\n",
    "summary_by_targprog = pd.DataFrame(table)"
   ]
  },
  {
   "cell_type": "code",
   "execution_count": null,
   "metadata": {},
   "outputs": [],
   "source": [
    "targprogs"
   ]
  },
  {
   "cell_type": "code",
   "execution_count": null,
   "metadata": {},
   "outputs": [],
   "source": [
    "summary_by_targprog"
   ]
  },
  {
   "cell_type": "code",
   "execution_count": null,
   "metadata": {},
   "outputs": [],
   "source": [
    "g = sns.catplot(\n",
    "    data=targets,\n",
    "    x=\"TARGPRIO\", y=\"ASSIGNED\", \n",
    "    palette=\"dark\", alpha=.6, kind=\"bar\", col='FIELD_NAME',\n",
    "    col_wrap = 3\n",
    ")\n",
    "g.savefig(f'{plot_prefix}_Assignment_Probablity_By_Field.{plot_format}')"
   ]
  },
  {
   "cell_type": "code",
   "execution_count": null,
   "metadata": {},
   "outputs": [],
   "source": [
    "g = sns.catplot(\n",
    "    data=source_lists[source_lists['CONFIGURED']>0],\n",
    "    x=\"TARGPRIO\", y=\"ASSIGNED\", \n",
    "    palette=\"dark\", alpha=.6, kind=\"bar\", col='source_list',\n",
    "    col_wrap = 3\n",
    ")\n",
    "g.savefig(f'{plot_prefix}_Assignment_Probablity_By_Source_List.{plot_format}')"
   ]
  },
  {
   "cell_type": "code",
   "execution_count": null,
   "metadata": {},
   "outputs": [],
   "source": []
  }
 ],
 "metadata": {
  "kernelspec": {
   "display_name": "Django",
   "language": "python",
   "name": "myenv"
  },
  "language_info": {
   "codemirror_mode": {
    "name": "ipython",
    "version": 3
   },
   "file_extension": ".py",
   "mimetype": "text/x-python",
   "name": "python",
   "nbconvert_exporter": "python",
   "pygments_lexer": "ipython3",
   "version": "3.8.1"
  }
 },
 "nbformat": 4,
 "nbformat_minor": 4
}
